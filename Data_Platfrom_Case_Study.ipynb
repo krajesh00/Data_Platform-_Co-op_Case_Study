{
  "nbformat": 4,
  "nbformat_minor": 0,
  "metadata": {
    "colab": {
      "provenance": [],
      "authorship_tag": "ABX9TyNjJuuzJgeR3TEbeY7kBmfY",
      "include_colab_link": true
    },
    "kernelspec": {
      "name": "python3",
      "display_name": "Python 3"
    },
    "language_info": {
      "name": "python"
    }
  },
  "cells": [
    {
      "cell_type": "markdown",
      "metadata": {
        "id": "view-in-github",
        "colab_type": "text"
      },
      "source": [
        "<a href=\"https://colab.research.google.com/github/krajesh00/Data_Platform_Co-op_Case_Study/blob/master/Data_Platfrom_Case_Study.ipynb\" target=\"_parent\"><img src=\"https://colab.research.google.com/assets/colab-badge.svg\" alt=\"Open In Colab\"/></a>"
      ]
    },
    {
      "cell_type": "code",
      "source": [
        "!pip install pyspark\n",
        "# Import SparkSession\n",
        "from pyspark.sql import SparkSession\n",
        "# Create a Spark Session\n",
        "spark = SparkSession.builder.master(\"local[*]\").getOrCreate()\n",
        "# Check Spark Session Information\n",
        "spark\n",
        "# Import a Spark function from library\n",
        "from pyspark.sql.functions import *\n",
        "\n",
        "\n"
      ],
      "metadata": {
        "colab": {
          "base_uri": "https://localhost:8080/"
        },
        "id": "J2S_tu8_QrVd",
        "outputId": "124673ee-a690-40d1-dbb7-91a1f0f056d3"
      },
      "execution_count": 86,
      "outputs": [
        {
          "output_type": "stream",
          "name": "stdout",
          "text": [
            "Looking in indexes: https://pypi.org/simple, https://us-python.pkg.dev/colab-wheels/public/simple/\n",
            "Requirement already satisfied: pyspark in /usr/local/lib/python3.8/dist-packages (3.3.1)\n",
            "Requirement already satisfied: py4j==0.10.9.5 in /usr/local/lib/python3.8/dist-packages (from pyspark) (0.10.9.5)\n"
          ]
        }
      ]
    },
    {
      "cell_type": "code",
      "source": [
        "from pyspark.sql.functions import lit\n",
        "from pyspark.sql.functions import udf \n",
        "from pyspark.sql.window import Window\n",
        "import pandas as pd\n",
        "# Read the string data into a DataFrame\n",
        "data = 'Airline Code;DelayTimes;FlightCodes;To_From\\nAir Canada (!);[21, 40];20015.0;WAterLoo_NEWYork\\n<Air France> (12);[];;Montreal_TORONTO\\n(Porter Airways. );[60, 22, 87];20035.0;CALgary_Ottawa\\n12. Air France;[78, 66];;Ottawa_VANcouvER\\n\"\"\".\\\\.Lufthansa.\\\\.\"\"\";[12, 33];20055.0;london_MONTreal\\n'\n",
        "df = spark.read.csv(spark.sparkContext.parallelize(data.split(\"\\n\")), header=True, sep=';')\n",
        "\n",
        "# 1. Inputting Flight Codes for missing values and changing data types of all elements to integer\n",
        "flight_codes = df.rdd.map(lambda x: x[2]).collect()\n",
        "\n",
        "for i in range (0, len(flight_codes)):\n",
        "  if flight_codes[i] is None:\n",
        "     flight_codes[i] = int(float(flight_codes[i-1]) + 10)\n",
        "  else:\n",
        "    flight_codes[i] = int(float(flight_codes[i]))\n",
        "\n",
        "\n",
        "w = Window().orderBy(lit('A'))\n",
        "df = df.withColumn('serial_number', row_number().over(w))\n",
        "\n",
        "replacement = udf(lambda x : flight_codes[x-1])\n",
        "df = df.withColumn(\"FlightCodes\", replacement(df.serial_number)).drop('serial_number')\n",
        "\n",
        "# 2. Split the data from the To_From column into two different and make them capital case\n",
        "df = df.withColumn(\"From\", split(df[\"To_From\"], \"_\").getItem(0))\n",
        "df = df.withColumn(\"To\", split(df[\"To_From\"], \"_\").getItem(1))\n",
        "df = df.drop(\"To_From\")\n",
        "df = df.withColumn(\"From\", upper(col(\"From\")))\n",
        "df = df.withColumn(\"To\", upper(col(\"To\")))\n",
        "\n",
        "#3. Cleaning up airline codes\n",
        "df = df.withColumn(\"Airline Code\", regexp_replace(col(\"Airline Code\"), \"[^a-zA-Z ]\", \"\"))\n",
        "\n",
        "# Final table\n",
        "df.show()\n"
      ],
      "metadata": {
        "colab": {
          "base_uri": "https://localhost:8080/"
        },
        "id": "in-zQygMR4Hw",
        "outputId": "0207be8f-c1c0-4290-d2bd-230ac8cbd576"
      },
      "execution_count": 108,
      "outputs": [
        {
          "output_type": "stream",
          "name": "stdout",
          "text": [
            "+---------------+------------+-----------+--------+---------+\n",
            "|   Airline Code|  DelayTimes|FlightCodes|    From|       To|\n",
            "+---------------+------------+-----------+--------+---------+\n",
            "|    Air Canada |    [21, 40]|      20015|WATERLOO|  NEWYORK|\n",
            "|    Air France |          []|      20025|MONTREAL|  TORONTO|\n",
            "|Porter Airways |[60, 22, 87]|      20035| CALGARY|   OTTAWA|\n",
            "|     Air France|    [78, 66]|      20045|  OTTAWA|VANCOUVER|\n",
            "|      Lufthansa|    [12, 33]|      20055|  LONDON| MONTREAL|\n",
            "+---------------+------------+-----------+--------+---------+\n",
            "\n"
          ]
        }
      ]
    }
  ]
}